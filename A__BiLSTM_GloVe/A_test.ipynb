{
  "nbformat": 4,
  "nbformat_minor": 0,
  "metadata": {
    "colab": {
      "name": "2018MT10770_A3_A_test.ipynb",
      "provenance": [],
      "collapsed_sections": []
    },
    "kernelspec": {
      "name": "python3",
      "display_name": "Python 3"
    },
    "language_info": {
      "name": "python"
    }
  },
  "cells": [
    {
      "cell_type": "markdown",
      "metadata": {
        "id": "JSkHozvq7gGh"
      },
      "source": [
        "Make a copy of this notebook and rename using your USERID in the following format, 2017CSZ8058\n",
        "\n",
        "Give read access to keshavkolluru@gmail.com, vishalsaley114@gmail.com and kartikeya.badola@gmail.com\n"
      ]
    },
    {
      "cell_type": "code",
      "metadata": {
        "id": "sPmKrdbC48JU",
        "colab": {
          "base_uri": "https://localhost:8080/"
        },
        "outputId": "8c40c41c-5c5e-4612-e41d-06a2e93855fc"
      },
      "source": [
        "## DONT CHANGE THIS CELL \n",
        "# this is currently the same as dev.data.txt\n",
        "!wget http://www.cse.iitd.ac.in/~mausam/courses/col772/autumn2021/A3/test.data.txt"
      ],
      "execution_count": null,
      "outputs": [
        {
          "output_type": "stream",
          "name": "stdout",
          "text": [
            "--2021-10-11 18:13:10--  http://www.cse.iitd.ac.in/~mausam/courses/col772/autumn2021/A3/test.data.txt\n",
            "Resolving www.cse.iitd.ac.in (www.cse.iitd.ac.in)... 103.27.9.152\n",
            "Connecting to www.cse.iitd.ac.in (www.cse.iitd.ac.in)|103.27.9.152|:80... connected.\n",
            "HTTP request sent, awaiting response... 301 Moved Permanently\n",
            "Location: https://www.cse.iitd.ac.in/~mausam/courses/col772/autumn2021/A3/test.data.txt [following]\n",
            "--2021-10-11 18:13:11--  https://www.cse.iitd.ac.in/~mausam/courses/col772/autumn2021/A3/test.data.txt\n",
            "Connecting to www.cse.iitd.ac.in (www.cse.iitd.ac.in)|103.27.9.152|:443... connected.\n",
            "HTTP request sent, awaiting response... 200 OK\n",
            "Length: 63639 (62K) [text/plain]\n",
            "Saving to: ‘test.data.txt’\n",
            "\n",
            "test.data.txt       100%[===================>]  62.15K  87.9KB/s    in 0.7s    \n",
            "\n",
            "2021-10-11 18:13:13 (87.9 KB/s) - ‘test.data.txt’ saved [63639/63639]\n",
            "\n"
          ]
        }
      ]
    },
    {
      "cell_type": "code",
      "metadata": {
        "id": "xJv-12oi_zKg",
        "colab": {
          "base_uri": "https://localhost:8080/"
        },
        "outputId": "38d4602d-b7f3-446c-c8ed-40edbf870c33"
      },
      "source": [
        "## Replace with the right link that contains the zip file uploaded from the training\n",
        "!gdown https://drive.google.com/uc?id=1-4LLmFgkzKL63dSVmbCFPUR5MOupTXlw\n",
        "\n",
        "# https://drive.google.com/file/d/1-4LLmFgkzKL63dSVmbCFPUR5MOupTXlw/view?usp=sharing"
      ],
      "execution_count": null,
      "outputs": [
        {
          "output_type": "stream",
          "name": "stdout",
          "text": [
            "Downloading...\n",
            "From: https://drive.google.com/uc?id=1-4LLmFgkzKL63dSVmbCFPUR5MOupTXlw\n",
            "To: /content/2018MT10770_A_model.zip\n",
            "100% 4.24G/4.24G [01:16<00:00, 55.2MB/s]\n"
          ]
        }
      ]
    },
    {
      "cell_type": "code",
      "metadata": {
        "colab": {
          "base_uri": "https://localhost:8080/"
        },
        "id": "yKJTv40Yyi7-",
        "outputId": "95912338-68b1-45a9-ee1c-14c8506261ee"
      },
      "source": [
        "!unzip 2018MT10770_A_model.zip"
      ],
      "execution_count": null,
      "outputs": [
        {
          "output_type": "stream",
          "name": "stdout",
          "text": [
            "Archive:  2018MT10770_A_model.zip\n",
            "   creating: models/\n",
            "   creating: models/.ipynb_checkpoints/\n",
            "  inflating: models/model-1633966417.4227178.pt  \n"
          ]
        }
      ]
    },
    {
      "cell_type": "code",
      "metadata": {
        "id": "rVs5810vU4dF"
      },
      "source": [
        "## Import relevant packages\n",
        "\n",
        "import os\n",
        "import logging\n",
        "import pandas as pd\n",
        "import numpy as np\n",
        "\n",
        "import torch\n",
        "from torch.utils.data import Dataset, DataLoader\n",
        "import torch.optim as O\n",
        "import torch.nn as nn\n",
        "import torch.nn.functional as F\n",
        "from torch.optim.lr_scheduler import StepLR\n",
        "\n",
        "import torchtext\n",
        "from torchtext import datasets, vocab\n",
        "from torchtext.legacy import data\n",
        "from torchtext.vocab import GloVe\n",
        "\n",
        "from argparse import ArgumentParser\n",
        "from pdb import set_trace\n",
        "from typing import Dict, Tuple, List, Union, Optional\n",
        "from tqdm import tqdm\n",
        "import time, datetime\n",
        "import string\n",
        "\n",
        "import random\n"
      ],
      "execution_count": null,
      "outputs": []
    },
    {
      "cell_type": "code",
      "metadata": {
        "id": "7b2IroSHtQxi"
      },
      "source": [
        "# set seeds\n",
        "random.seed(772)\n",
        "torch.manual_seed(772)\n",
        "torch.cuda.manual_seed(772)"
      ],
      "execution_count": null,
      "outputs": []
    },
    {
      "cell_type": "code",
      "metadata": {
        "id": "Uwnhd8FCsr6v"
      },
      "source": [
        "## Various utility functions\n",
        "\n",
        "\"\"\"checking arguments\"\"\"\n",
        "def check_args(args):\n",
        "\t# --tmp_dir\n",
        "\tcheck_folder(args.tmp_dir)\n",
        "\n",
        "\t# --data_path\n",
        "\tassert os.path.isfile(args.data_path), \"data_path not found\"\n",
        "\n",
        "\t# --saved_model\n",
        "\tassert os.path.isfile(args.saved_model), \"saved_model not found\"\n",
        "\n",
        "\treturn args\n",
        "\n",
        "def makedirs(name):\n",
        "\t\"\"\"helper function for python 2 and 3 to call os.makedirs()\n",
        "\t\tavoiding an error if the directory to be created already exists\"\"\"\n",
        "\n",
        "\timport os, errno\n",
        "\n",
        "\ttry:\n",
        "\t\tos.makedirs(name)\n",
        "\texcept OSError as ex:\n",
        "\t\tif ex.errno == errno.EEXIST and os.path.isdir(name):\n",
        "\t\t\t# ignore existing directory\n",
        "\t\t\tpass\n",
        "\t\telse:\n",
        "\t\t\t# a different error happened\n",
        "\t\t\traise\n",
        "\n",
        "def check_folder(log_dir):\n",
        "\tif not os.path.exists(log_dir):\n",
        "\t\tos.makedirs(log_dir)\n",
        "\treturn log_dir\n"
      ],
      "execution_count": null,
      "outputs": []
    },
    {
      "cell_type": "code",
      "metadata": {
        "id": "Kzfe9ynNsYHe"
      },
      "source": [
        "def parse_args():\n",
        "  parser = ArgumentParser(description='Word Meaning Comparison')\n",
        "\n",
        "  parser.add_argument('--data_path', '-d', type=str, default='test.data.txt')\n",
        "  parser.add_argument('--saved_model', '-m', type=str, default='/content/models/model-1633966417.4227178.pt')\n",
        "  parser.add_argument('--out_path', '-o', type=str, default='output.txt')\n",
        "\n",
        "  parser.add_argument('--tmp_dir', type=str, default='tmp')\n",
        "\n",
        "  parser.add_argument('--gpu', type=int, default=0)\n",
        "\n",
        "  return check_args(parser.parse_known_args()[0])\n",
        "\n",
        "args = parse_args()"
      ],
      "execution_count": null,
      "outputs": []
    },
    {
      "cell_type": "code",
      "metadata": {
        "id": "4Ot67dvmqbDN"
      },
      "source": [
        "device = torch.device('cuda' if args.gpu and torch.cuda.is_available() else 'cpu')"
      ],
      "execution_count": null,
      "outputs": []
    },
    {
      "cell_type": "code",
      "metadata": {
        "id": "PxH-oOOkU4Yi"
      },
      "source": [
        "class BiLSTM(nn.Module):\n",
        "  def __init__(\n",
        "      self,\n",
        "      embedding: torch.Tensor,\n",
        "      rnn_hidden_dim: int,\n",
        "      rnn_layers: int,\n",
        "      dropout: float = 0,\n",
        "      freeze_emb: bool = True\n",
        "  ) -> None:\n",
        "\n",
        "    super().__init__()\n",
        "\n",
        "    assert embedding is not None\n",
        "    self.embedding = nn.Embedding.from_pretrained(embedding.vectors, freeze=freeze_emb)\n",
        "    self.emb_size = embedding.vectors.size()[-1]\n",
        "\n",
        "    self.rnn_hidden_dim = rnn_hidden_dim\n",
        "    self.encoder = nn.LSTM(\n",
        "            self.emb_size, rnn_hidden_dim,\n",
        "            bidirectional = True,\n",
        "            num_layers = rnn_layers,\n",
        "            dropout = (0 if rnn_layers == 1 else dropout),\n",
        "            batch_first = True\n",
        "        )\n",
        "    self.dropout = nn.Dropout(dropout)\n",
        "    self.sigmoid = nn.Sigmoid()\n",
        "\n",
        "    # logger.info(\"New model instantiated with arguments: {}\".format(args))\n",
        "    \n",
        "  def forward(self, idx1, idx2, s1, s2):\n",
        "    t = torch.arange(s1.shape[0])\n",
        "\n",
        "    s1 = self.embedding(s1)\n",
        "    s1 = self.dropout(s1)\n",
        "    s1, _ = self.encoder(s1)\n",
        "    s1 = s1[ :, :, :self.rnn_hidden_dim ] +  s1[ :, :, self.rnn_hidden_dim: ]\n",
        "    s1 = s1[t, idx1, :].squeeze(1)\n",
        "\n",
        "    s2 = self.embedding(s2)\n",
        "    s2 = self.dropout(s2)\n",
        "    s2, _ = self.encoder(s2)\n",
        "    s2 = s2[ :, :, :self.rnn_hidden_dim ] +  s2[ :, :, self.rnn_hidden_dim: ]\n",
        "    s2 = s2[t, idx2, :].squeeze(1)\n",
        "\n",
        "    out = torch.sum(s1 * s2, dim=-1)/torch.sqrt(torch.sum(s1**2, dim=-1) * torch.sum(s2**2, dim=-1))\n",
        "    out = 0.5 * (1 + out)\n",
        "    ##out = torch.sum(s1 * s2, dim=-1)#.unsqueeze(1)   # dot product\n",
        "    ## out = self.sigmoid(out) # #todo\n",
        "\n",
        "    return out\n"
      ],
      "execution_count": null,
      "outputs": []
    },
    {
      "cell_type": "code",
      "metadata": {
        "id": "s5hUznSIulq6"
      },
      "source": [
        "label_encode = {\n",
        "    'F': 0,\n",
        "    'T': 1\n",
        "}\n",
        "\n",
        "label_decode = {\n",
        "    0: 'F',\n",
        "    1: 'T'\n",
        "}"
      ],
      "execution_count": null,
      "outputs": []
    },
    {
      "cell_type": "code",
      "metadata": {
        "id": "9Sh-Mw6cAIcH",
        "colab": {
          "base_uri": "https://localhost:8080/"
        },
        "outputId": "f3549cfb-f988-4b53-fc43-18b82d463cf8"
      },
      "source": [
        "## YOUR testing code\n",
        "\n",
        "def str_split(x):\n",
        "  return x.split()\n",
        "\n",
        "\n",
        "save_model = torch.load(args.saved_model, map_location=device)\n",
        "\n",
        "\n",
        "model = save_model['model']\n",
        "model.load_state_dict(save_model['model_state'])\n",
        "model.eval()\n"
      ],
      "execution_count": null,
      "outputs": [
        {
          "output_type": "execute_result",
          "data": {
            "text/plain": [
              "BiLSTM(\n",
              "  (embedding): Embedding(1917496, 300)\n",
              "  (encoder): LSTM(300, 150, batch_first=True, bidirectional=True)\n",
              "  (dropout): Dropout(p=0.5, inplace=False)\n",
              "  (sigmoid): Sigmoid()\n",
              ")"
            ]
          },
          "metadata": {},
          "execution_count": 11
        }
      ]
    },
    {
      "cell_type": "code",
      "metadata": {
        "colab": {
          "base_uri": "https://localhost:8080/"
        },
        "id": "xDlXF9ABfaie",
        "outputId": "391a58f7-1db2-45ff-d771-34590263e587"
      },
      "source": [
        "save_model['args']"
      ],
      "execution_count": null,
      "outputs": [
        {
          "output_type": "execute_result",
          "data": {
            "text/plain": [
              "Namespace(batch_size=32, data_path='data/train/train.data.txt', data_split=[1.0], dropout=0.5, embed_dim=300, embed_name='42B', epochs=25, gold_path='data/train/train.gold.txt', gpu=1, lr=0.001, lr_decay=0.0005, model='bilstm', models_dir='models', out_dir='out', rnn_hidden_dim=150, rnn_layers=1, tmp_dir='tmp')"
            ]
          },
          "metadata": {},
          "execution_count": 12
        }
      ]
    },
    {
      "cell_type": "code",
      "metadata": {
        "id": "ChQFYHVyVW65",
        "colab": {
          "base_uri": "https://localhost:8080/",
          "height": 555
        },
        "outputId": "42a33fc8-d0da-48b6-d1ca-b85a4c3fba42"
      },
      "source": [
        "data_path =  os.path.join(args.tmp_dir, \"data.tsv\")\n",
        "\n",
        "def process_data():\n",
        "  combined = pd.read_csv(\"test.data.txt\", sep='\\t', header=None)\n",
        "  combined['idx_l'] = combined.apply(lambda x: x[2].split('-')[0], axis=1).astype(int)\n",
        "  combined['idx_r'] = combined.apply(lambda x: x[2].split('-')[-1], axis=1).astype(int)\n",
        "  combined.columns = ['word', 'pos', 'idx', 's1', 's2', 'idx_s1', 'idx_s2']\n",
        "  combined = combined[['word', 'pos', 'idx_s1', 'idx_s2', 's1', 's2']]\n",
        "  print(data_path)\n",
        "  combined.to_csv(data_path, sep='\\t', index=False, header=False)\n",
        "  return combined\n",
        "\n",
        "process_data()"
      ],
      "execution_count": null,
      "outputs": [
        {
          "output_type": "stream",
          "name": "stdout",
          "text": [
            "tmp/data.tsv\n"
          ]
        },
        {
          "output_type": "execute_result",
          "data": {
            "text/html": [
              "<div>\n",
              "<style scoped>\n",
              "    .dataframe tbody tr th:only-of-type {\n",
              "        vertical-align: middle;\n",
              "    }\n",
              "\n",
              "    .dataframe tbody tr th {\n",
              "        vertical-align: top;\n",
              "    }\n",
              "\n",
              "    .dataframe thead th {\n",
              "        text-align: right;\n",
              "    }\n",
              "</style>\n",
              "<table border=\"1\" class=\"dataframe\">\n",
              "  <thead>\n",
              "    <tr style=\"text-align: right;\">\n",
              "      <th></th>\n",
              "      <th>word</th>\n",
              "      <th>pos</th>\n",
              "      <th>idx_s1</th>\n",
              "      <th>idx_s2</th>\n",
              "      <th>s1</th>\n",
              "      <th>s2</th>\n",
              "    </tr>\n",
              "  </thead>\n",
              "  <tbody>\n",
              "    <tr>\n",
              "      <th>0</th>\n",
              "      <td>board</td>\n",
              "      <td>N</td>\n",
              "      <td>2</td>\n",
              "      <td>2</td>\n",
              "      <td>Room and board .</td>\n",
              "      <td>He nailed boards across the windows .</td>\n",
              "    </tr>\n",
              "    <tr>\n",
              "      <th>1</th>\n",
              "      <td>circulate</td>\n",
              "      <td>V</td>\n",
              "      <td>0</td>\n",
              "      <td>4</td>\n",
              "      <td>Circulate a rumor .</td>\n",
              "      <td>This letter is being circulated among the facu...</td>\n",
              "    </tr>\n",
              "    <tr>\n",
              "      <th>2</th>\n",
              "      <td>hook</td>\n",
              "      <td>V</td>\n",
              "      <td>0</td>\n",
              "      <td>1</td>\n",
              "      <td>Hook a fish .</td>\n",
              "      <td>He hooked a snake accidentally , and was so sc...</td>\n",
              "    </tr>\n",
              "    <tr>\n",
              "      <th>3</th>\n",
              "      <td>recreation</td>\n",
              "      <td>N</td>\n",
              "      <td>1</td>\n",
              "      <td>9</td>\n",
              "      <td>For recreation he wrote poetry and solved cros...</td>\n",
              "      <td>Drug abuse is often regarded as a form of recr...</td>\n",
              "    </tr>\n",
              "    <tr>\n",
              "      <th>4</th>\n",
              "      <td>domesticity</td>\n",
              "      <td>N</td>\n",
              "      <td>4</td>\n",
              "      <td>6</td>\n",
              "      <td>Making a hobby of domesticity .</td>\n",
              "      <td>A royal family living in unpretentious domesti...</td>\n",
              "    </tr>\n",
              "    <tr>\n",
              "      <th>...</th>\n",
              "      <td>...</td>\n",
              "      <td>...</td>\n",
              "      <td>...</td>\n",
              "      <td>...</td>\n",
              "      <td>...</td>\n",
              "      <td>...</td>\n",
              "    </tr>\n",
              "    <tr>\n",
              "      <th>633</th>\n",
              "      <td>base</td>\n",
              "      <td>N</td>\n",
              "      <td>9</td>\n",
              "      <td>0</td>\n",
              "      <td>He told the painter that he wanted a yellow ba...</td>\n",
              "      <td>Bases include oxides and hydroxides of metals ...</td>\n",
              "    </tr>\n",
              "    <tr>\n",
              "      <th>634</th>\n",
              "      <td>power</td>\n",
              "      <td>N</td>\n",
              "      <td>5</td>\n",
              "      <td>6</td>\n",
              "      <td>He needed a lot of power to hit the ball out o...</td>\n",
              "      <td>The mysterious presence of an evil power .</td>\n",
              "    </tr>\n",
              "    <tr>\n",
              "      <th>635</th>\n",
              "      <td>portmanteau</td>\n",
              "      <td>N</td>\n",
              "      <td>8</td>\n",
              "      <td>5</td>\n",
              "      <td>` brunch ' is a well - known portmanteau .</td>\n",
              "      <td>` motel ' is a portmanteau word made by combin...</td>\n",
              "    </tr>\n",
              "    <tr>\n",
              "      <th>636</th>\n",
              "      <td>promise</td>\n",
              "      <td>V</td>\n",
              "      <td>1</td>\n",
              "      <td>1</td>\n",
              "      <td>I promise you my best effort .</td>\n",
              "      <td>I promised somebody my time .</td>\n",
              "    </tr>\n",
              "    <tr>\n",
              "      <th>637</th>\n",
              "      <td>pierce</td>\n",
              "      <td>V</td>\n",
              "      <td>1</td>\n",
              "      <td>2</td>\n",
              "      <td>To pierce a mystery .</td>\n",
              "      <td>The path pierced the jungle .</td>\n",
              "    </tr>\n",
              "  </tbody>\n",
              "</table>\n",
              "<p>638 rows × 6 columns</p>\n",
              "</div>"
            ],
            "text/plain": [
              "            word  ...                                                 s2\n",
              "0          board  ...              He nailed boards across the windows .\n",
              "1      circulate  ...  This letter is being circulated among the facu...\n",
              "2           hook  ...  He hooked a snake accidentally , and was so sc...\n",
              "3     recreation  ...  Drug abuse is often regarded as a form of recr...\n",
              "4    domesticity  ...  A royal family living in unpretentious domesti...\n",
              "..           ...  ...                                                ...\n",
              "633         base  ...  Bases include oxides and hydroxides of metals ...\n",
              "634        power  ...         The mysterious presence of an evil power .\n",
              "635  portmanteau  ...  ` motel ' is a portmanteau word made by combin...\n",
              "636      promise  ...                      I promised somebody my time .\n",
              "637       pierce  ...                      The path pierced the jungle .\n",
              "\n",
              "[638 rows x 6 columns]"
            ]
          },
          "metadata": {},
          "execution_count": 13
        }
      ]
    },
    {
      "cell_type": "code",
      "metadata": {
        "id": "bJEgWGdHy7ng",
        "colab": {
          "base_uri": "https://localhost:8080/"
        },
        "outputId": "d0f7e7a0-73fb-4747-a679-b69a25cd61bc"
      },
      "source": [
        "def str_split(x):\n",
        "  return x.split()\n",
        "\n",
        "# WORD = data.Field(lower=True)\n",
        "# POS = data.Field(lower=True)\n",
        "###INDEX = data.Field(sequential=False, use_vocab=False, batch_first=True)\n",
        "###TEXT = data.Field(sequential=True, tokenize=str_split, lower=True, batch_first=True)\n",
        "###LABEL = data.LabelField(dtype=torch.int, is_target=True, batch_first=True, use_vocab=False)\n",
        "\n",
        "INDEX, TEXT, LABEL = save_model['fields']\n",
        "\n",
        "dataset  = data.TabularDataset(path=data_path, \n",
        "                               format='tsv', \n",
        "                               fields=[\n",
        "                                       (None, None), \n",
        "                                       (None, None), \n",
        "                                       ('idx1', INDEX), \n",
        "                                       ('idx2', INDEX), \n",
        "                                       ('s1', TEXT), \n",
        "                                       ('s2', TEXT), \n",
        "                                       #('label', LABEL),\n",
        "                                       ], skip_header=False)\n",
        "\n",
        "\n",
        "dt_test = dataset  \n",
        "\n",
        "print([i for i in dt_test.s1])\n",
        "# LABEL.build_vocab(dt_test)\n",
        "\n",
        "\n",
        "it_test = data.BucketIterator(dt_test, batch_size=len(dt_test), device=device, repeat=False, sort=False, shuffle=False)\n",
        "\n",
        "'''\n",
        "for b in it_test:\n",
        "    # print (b.s1, b.s2, b.idx1, b.idx2, b.label)\n",
        "    #print (b.s1)\n",
        "    print (b.s1.size())\n",
        "    print (b.idx1)\n",
        "    print (b.idx2)\n",
        "'''\n",
        "print(len(it_test))\n"
      ],
      "execution_count": null,
      "outputs": [
        {
          "output_type": "stream",
          "name": "stdout",
          "text": [
            "[['room', 'and', 'board', '.'], ['circulate', 'a', 'rumor', '.'], ['hook', 'a', 'fish', '.'], ['for', 'recreation', 'he', 'wrote', 'poetry', 'and', 'solved', 'crossword', 'puzzles', '.'], ['making', 'a', 'hobby', 'of', 'domesticity', '.'], ['the', 'child', \"'s\", 'acquisition', 'of', 'language', '.'], ['there', 'was', 'no', 'meeting', 'of', 'minds', '.'], ['they', 'swam', 'in', 'the', 'nude', '.'], ['he', 'left', 'an', 'indelible', 'mark', 'on', 'the', 'american', 'theater', '.'], ['conditioning', 'is', 'a', 'form', 'of', 'learning', 'by', 'association', '.'], ['the', 'alkaline', 'inclination', 'of', 'the', 'local', 'waters', '.'], ['glaze', 'the', 'bread', 'with', 'eggwhite', '.'], ['an', 'amendment', 'to', 'piggyback', 'the', 'current', 'law', '.'], ['to', 'pick', 'rags', '.'], ['belabor', 'the', 'obvious', '.'], ['bell', 'cows', '.'], ['he', 'took', 'the', 'manuscript', 'in', 'both', 'hands', 'and', 'gave', 'it', 'a', 'mighty', 'tear', '.'], ['kill', 'the', 'engine', '.'], ['analyze', 'your', 'real', 'motives', '.'], ['did', 'you', 'ever', 'lecture', 'at', 'harvard', '?'], ['a', 'rehearsal', 'will', 'be', 'held', 'the', 'day', 'before', 'the', 'wedding', '.'], ['we', 'decided', 'to', 'forge', 'ahead', 'with', 'our', 'plans', 'even', 'though', 'our', 'biggest', 'underwriter', 'backed', 'out', '.'], ['the', 'belief', 'that', 'the', 'world', 'is', 'flat', 'is', 'a', 'falsity', '.'], ['an', 'assurance', 'of', 'help', 'when', 'needed', '.'], ['a', 'branch', 'of', 'congress', '.'], ['he', 'tried', 'to', 'clear', 'his', 'head', 'of', 'the', 'whisky', 'fuzz', '.'], ['i', 'can', 'not', 'risk', 'smoking', '.'], ['the', 'chemistry', 'of', 'indigo', '.'], ['“', 'among', 'other', 'native', 'delicacies', ',', 'they', 'give', 'you', 'fresh', 'char', '.', '”', '.'], ['this', 'situation', 'developed', 'in', 'response', 'to', 'events', 'in', 'africa', '.'], ['that', 'thing', 'is', 'a', 'poor', 'excuse', 'for', 'a', 'gingerbread', 'man', '.', 'has', \"n't\", 'anyone', 'taught', 'you', 'how', 'to', 'bake', '?'], ['he', 'sought', 'release', 'from', 'his', 'bondage', 'to', 'satan', '.'], ['the', 'catch', 'was', 'only', '10', 'fish', '.'], ['there', \"'s\", 'too', 'much', 'shadiness', 'to', 'take', 'good', 'photographs', '.'], ['the', 'outward', 'passage', 'took', '10', 'days', '.'], ['i', 'already', 'have', 'a', 'son', ',', 'so', 'i', 'would', 'like', 'to', 'have', 'a', 'daughter', '.'], ['please', 'hold', 'a', 'table', 'at', 'maxim', \"'s\", '.'], ['banish', 'bad', 'thoughts', '.'], ['a', 'keen', 'musical', 'sense', '.'], ['in', 'my', 'opinion', ',', 'white', 'chocolate', 'is', 'better', 'than', 'milk', 'chocolate', '.'], ['he', 'signed', 'the', 'deed', '.'], ['his', 'claim', 'to', 'the', 'property', 'has', 'come', 'under', 'question', '.'], ['the', 'publisher', 'wants', 'to', 'distribute', 'the', 'book', 'in', 'asia', '.'], ['return', 'her', 'love', '.'], ['he', 'is', 'an', 'officer', 'of', 'the', 'court', '.'], ['to', 'clutch', 'power', '.'], ['the', 'dissipation', 'of', 'the', 'mist', '.'], ['he', 'remembered', 'her', 'because', 'she', 'was', 'carrying', 'a', 'large', 'portfolio', '.'], ['they', 'gave', 'full', 'play', 'to', 'the', 'artist', \"'s\", 'talent', '.'], ['she', 'gave', 'her', 'hair', 'a', 'quick', 'brush', '.'], ['they', 'asked', 'for', 'a', '10', '%', 'rise', 'in', 'rates', '.'], ['his', 'studio', 'was', 'cramped', 'when', 'he', 'began', 'as', 'an', 'artist', '.'], ['to', 'cushion', 'a', 'blow', '.'], ['there', 'was', 'plenty', 'of', 'food', 'for', 'everyone', '.'], ['a', 'look', 'of', 'triumph', '.'], ['a', 'recrudescence', 'of', 'racism', '.'], ['most', 'websites', 'contain', 'metadata', 'to', 'tell', 'the', 'computer', 'how', 'to', 'lay', 'the', 'words', 'out', 'on', 'the', 'screen', '.'], ['a', 'streak', 'of', 'wildness', '.'], ['he', 'allowed', 'a', 'month', 'to', 'elapse', 'before', 'beginning', 'the', 'work', '.'], ['he', 'tripled', 'to', 'the', 'rightfield', 'corner', '.'], ['he', 'is', 'about', 'average', 'in', 'height', '.'], ['on', 'entering', 'a', 'host', 'cell', ',', 'a', 'virus', 'will', 'start', 'to', 'replicate', '.'], ['she', 'used', 'to', 'wait', 'down', 'at', 'the', 'dew', 'drop', 'inn', '.'], ['they', 'started', 'at', 'the', 'bottom', 'of', 'the', 'hill', '.'], ['a', 'straggle', 'of', 'followers', '.'], ['in', 'every', 'war', 'there', 'are', 'acts', 'of', 'torture', 'that', 'cause', 'the', 'world', 'to', 'shudder', '.'], ['this', 'silly', 'excuse', 'wo', \"n't\", 'wash', 'in', 'traffic', 'court', '.'], ['i', 'seem', 'to', 'be', 'misunderstood', 'by', 'everyone', '.'], ['he', \"'s\", 'a', 'truck', 'jockey', '.'], ['sugar', 'your', 'tea', '.'], ['load', 'a', 'car', '.'], ['the', 'neoclassical', 'canon', '.'], ['she', 'only', 'wore', 'that', 'dress', 'to', 'upstage', 'everyone', '.'], ['this', 'behavior', 'will', 'ruin', 'your', 'chances', 'of', 'winning', 'the', 'election', '.'], ['please', 'modify', 'this', 'letter', 'to', 'make', 'it', 'more', 'polite', '.'], ['let', 'loose', 'mines', '.'], ['he', 'beat', 'his', 'breast', 'in', 'anger', '.'], ['an', 'invasion', 'of', 'locusts', '.'], ['wear', 'gloves', 'so', 'your', 'hands', 'stay', 'warm', '.'], ['washing', 'dishes', 'is', 'a', 'chore', ',', 'but', 'we', 'can', 'not', 'just', 'stop', 'eating', '.'], ['businessmen', 'of', 'every', 'stripe', 'joined', 'in', 'opposition', 'to', 'the', 'proposal', '.'], ['he', 'was', 'a', 'familiar', 'sight', 'on', 'the', 'television', '.'], ['here', \"'s\", 'a', 'good', 'potluck', 'of', 'beans', 'and', 'stew', '.'], ['you', 'need', 'to', 'push', 'quite', 'hard', 'to', 'get', 'this', 'door', 'open', '.'], ['he', 'was', 'driving', 'his', 'car', 'like', 'a', 'nut', '.'], ['our', 'children', 'share', 'a', 'love', 'of', 'music', '.'], ['children', 'must', 'develop', 'a', 'sense', 'of', 'right', 'and', 'wrong', '.'], ['the', 'force', 'required', 'to', 'compress', 'a', 'spring', 'varies', 'linearly', 'with', 'the', 'displacement', '.'], ['he', 'used', 'pressure', 'to', 'stop', 'the', 'bleeding', '.'], ['i', 'love', 'french', 'food', '.'], ['strike', 'an', 'arc', '.'], ['he', \"'s\", 'a', 'shtik', 'crazy', '.'], ['she', 'felt', 'a', 'tremor', 'in', 'her', 'stomach', 'before', 'going', 'on', 'stage', '.'], ['let', \"'s\", 'not', 'whitewash', 'the', 'crimes', 'of', 'stalin', '.'], ['her', 'glasses', 'left', 'marks', 'on', 'the', 'bridge', 'of', 'her', 'nose', '.'], ['elizabethan', 'schoolboys', 'were', 'taught', 'adoxography', ',', 'the', 'art', 'of', 'eruditely', 'praising', 'worthless', 'things', '.'], ['she', 'twirled', 'the', 'knife', 'through', 'her', 'fingers', 'with', 'impressive', 'dexterity', '.'], ['people', 'do', 'that', 'sort', 'of', 'thing', 'every', 'day', ',', 'without', 'ever', 'stopping', 'to', 'reflect', 'on', 'the', 'consequences', '.'], ['the', 'city', 'has', 'an', 'excellent', 'natural', 'harbour', '.'], ['absorb', 'the', 'costs', 'for', 'something', '.'], ['the', 'round', 'of', 'the', 'seasons', '.'], ['printing', 'at', 'higher', 'resolution', 'will', 'cause', 'a', 'reduction', 'in', 'performance', '.'], ['i', 'applaud', 'your', 'efforts', '.'], ['the', 'trailer', 'for', 'that', 'movie', 'makes', 'it', 'seem', 'like', 'it', 'would', 'be', 'fun', '.'], ['guests', 'should', 'never', 'be', 'late', 'to', 'a', 'dinner', 'party', '.'], ['a', 'growth', 'of', 'hair', '.'], ['the', 'buzz', 'of', 'excitement', 'was', 'so', 'great', 'that', 'a', 'formal', 'denial', 'was', 'issued', '.'], ['in', 'the', 'old', 'days', 'a', 'policeman', 'walked', 'a', 'beat', 'and', 'knew', 'all', 'his', 'people', 'by', 'name', '.'], ['the', 'computer', 'had', 'a', 'desktop', 'footprint', 'of', '10', 'by', '16', 'inches', '.'], ['he', 'came', 'out', 'of', 'nowhere', '.'], ['a', 'mince', 'of', 'mushrooms', '.'], ['militarize', 'the', 'civil', 'service', '.'], ['the', 'intention', 'of', 'this', 'legislation', 'is', 'to', 'boost', 'the', 'economy', '.'], ['submerge', 'your', 'head', 'completely', '.'], ['i', 'watch', 'these', 'movies', 'because', 'they', 'amuse', 'me', '.'], ['calibrate', 'a', 'gun', '.'], ['a', 'danger', 'to', 'all', 'races', 'over', 'the', 'whole', 'circumference', 'of', 'the', 'globe', '.'], ['tap', 'a', 'keg', 'of', 'beer', '.'], ['we', 'opened', 'a', 'new', 'branch', 'in', 'london', '.'], ['this', 'proves', 'beyond', 'peradventure', 'that', 'he', 'is', 'innocent', '.'], ['my', 'horse', 'was', 'several', 'lengths', 'behind', 'at', 'the', 'finish', '.'], ['the', 'kick', 'must', 'be', 'synchronized', 'with', 'the', 'arm', 'movements', '.'], ['he', 'was', 'given', 'a', 'month', 'to', 'pay', 'the', 'bill', '.'], ['sculpture', 'in', 'contradistinction', 'to', 'painting', '.'], ['remove', 'a', 'wrapper', '.'], ['you', 'can', 'crash', 'here', ',', 'though', 'it', \"'s\", 'not', 'very', 'comfortable', '.'], ['the', 'weather', 'system', 'of', 'the', 'pacific', 'is', 'determined', 'by', 'the', 'uninterrupted', 'smoothness', 'of', 'the', 'ocean', '.'], ['there', 'was', 'an', 'art', 'exhibition', 'on', 'in', 'the', 'town', 'hall', '.'], ['cloister', 'the', 'garden', '.'], ['he', 'made', 'a', 'great', 'maneuver', '.'], ['the', 'house', 'was', 'a', 'mess', '.'], ['burn', 'a', 'cd', '.'], ['even', 'the', 'pitcher', 'does', \"n't\", 'know', 'where', 'his', 'knuckleball', 'is', 'going', '.'], ['map', 'the', 'genes', '.'], ['mandate', 'a', 'colony', '.'], ['they', 'did', \"n't\", 'have', 'much', 'in', 'the', 'way', 'of', 'clothing', '.'], ['to', 'shock', 'rye', '.'], ['a', 'generous', 'tipper', '.'], ['it', 'will', 'avail', 'them', 'to', 'dispose', 'of', 'their', 'booty', '.'], ['the', 'politician', 'wore', 'a', 'bright', 'yellow', 'button', 'with', 'the', 'slogan', '\"', 'vote', 'smart', '\"', 'emblazoned', 'on', 'it', '.'], ['the', 'annual', 'crop', 'of', 'students', 'brings', 'many', 'new', 'ideas', '.'], ['boot', 'your', 'computer', '.'], ['the', 'policeman', 'waited', 'for', 'a', 'heartbeat', 'in', 'vain', '.'], ['time', 'seems', 'to', 'drag', 'when', 'you', \"'re\", 'waiting', 'for', 'a', 'bus', '.'], ['chisel', 'the', 'marble', '.'], ['one', 'aspect', 'of', 'waterloo', 'has', 'not', 'yet', 'been', 'treated', 'in', 'the', 'literature', '.'], ['martin', \"'s\", 'snatch', 'at', 'the', 'bridle', 'failed', 'and', 'the', 'horse', 'raced', 'away', '.'], ['there', 'are', 'drugs', 'designed', 'to', 'excite', 'certain', 'nerves', 'in', 'our', 'body', '.'], ['the', 'entire', 'building', 'complained', 'about', 'the', 'noise', '.'], ['scallop', 'the', 'hem', 'of', 'the', 'dress', '.'], ['scientists', 'often', 'can', 'not', 'date', 'precisely', 'archeological', 'or', 'prehistorical', 'findings', '.'], ['they', 'had', 'a', 'bitter', 'exchange', '.'], ['it', 'was', 'an', 'apology', 'for', 'a', 'meal', '.'], ['she', 'led', 'a', 'low', 'spade', '.'], ['she', 'loves', 'to', 'stay', 'at', 'home', 'and', 'cocoon', '.'], ['build', 'up', 'confidence', '.'], ['winterize', 'cars', '.'], ['he', 'got', 'his', 'wish', '.'], ['her', 'reinstatement', 'to', 'her', 'former', 'office', 'followed', 'quickly', '.'], ['put', 'a', 'little', 'baking', 'soda', 'in', 'some', 'vinegar', 'and', 'watch', 'what', 'happens', '.'], ['he', 'gave', 'a', 'speech', 'as', 'part', 'of', 'his', 'installation', 'into', 'the', 'hall', 'of', 'fame', '.'], ['she', 'can', 'not', 'conceive', '.'], ['he', 'could', 'not', 'touch', 'the', 'meaning', 'of', 'the', 'poem', '.'], ['percolate', 'coffee', '.'], ['when', 'england', 'defeated', 'pakistan', 'it', 'ended', 'a', 'ten', '-', 'year', 'drought', '.'], ['excite', 'the', 'neurons', '.'], ['a', 'zipper', 'pull', '.'], ['a', 'fight', 'broke', 'out', 'at', 'the', 'hockey', 'game', '.'], ['he', 'experimented', 'on', 'a', 'particular', 'breed', 'of', 'white', 'rats', '.'], ['his', 'thinking', 'was', 'in', 'the', 'american', 'mainstream', '.'], ['there', \"'s\", 'no', 'help', 'for', 'it', '.'], ['english', 'is', 'a', 'cognate', 'of', 'greek', ',', 'german', ',', 'russian', 'and', 'persian', '.'], ['to', 'convey', 'information', '.'], ['a', 'profession', 'of', 'disagreement', '.'], ['the', 'senator', 'rose', 'to', 'register', 'his', 'protest', '.'], ['the', 'plane', \"'s\", 'operation', 'in', 'high', 'winds', '.'], ['he', 'welded', 'together', 'some', 'pieces', 'of', 'strip', '.'], ['i', \"'ll\", 'toss', 'you', 'for', 'it', '.'], ['which', 'hinge', 'is', 'the', 'squeaker', '?'], ['the', 'nile', 'delta', '.'], ['please', 'sign', 'on', 'the', 'dotted', 'line', '.'], ['limited', 'runway', 'capacity', '.'], ['a', 'lace', 'frame', '.'], ['the', 'couple', 'chose', 'to', 'solemnize', 'their', 'relationship', 'in', 'a', 'secular', 'ceremony', ',', 'instead', 'of', 'having', 'a', 'wedding', '.'], ['the', 'drawing', 'of', 'water', 'from', 'the', 'well', '.'], ['he', 'put', 'the', 'cup', 'back', 'in', 'the', 'saucer', '.'], ['plan', 'an', 'attack', '.'], ['hit', 'the', 'bottle', '.'], ['those', 'who', 'criticize', 'others', 'often', 'are', 'not', 'perfect', ',', 'either', '.'], ['there', \"'s\", 'no', 'weeping', 'at', 'an', 'irish', 'wake', '.'], ['he', 'felt', 'a', 'stream', 'of', 'air', '.'], ['block', 'the', 'signals', 'emitted', 'by', 'this', 'station', '.'], ['lack', 'of', 'imagination', 'is', 'an', 'obstacle', 'to', 'one', \"'s\", 'advancement', '.'], ['point', 'a', 'gun', '.'], ['the', 'luck', 'of', 'the', 'draw', '.'], ['to', 'embellish', 'a', 'story', ',', 'the', 'truth', '.'], ['from', 'the', 'window', 'he', 'could', 'catch', 'a', 'glimpse', 'of', 'the', 'lake', '.'], ['you', 'shuffle', ',', 'i', \"'ll\", 'deal', '.'], ['please', 'bracket', 'this', 'remark', '.'], ['prices', 'vary', '.'], ['the', 'new', 'law', 'might', 'abridge', 'our', 'freedom', 'of', 'expression', '.'], ['he', 'published', 'an', 'unexpected', 'attack', 'on', 'my', 'work', '.'], ['indifference', 'is', 'the', 'sweetest', 'revenge', '.'], ['let', \"'s\", 'review', 'your', 'situation', '.'], ['the', 'court', \"'s\", 'tilt', 'toward', 'conservative', 'rulings', '.'], ['they', 'had', 'to', 'consult', 'before', 'arriving', 'at', 'a', 'decision', '.'], ['reline', 'the', 'paper', '.'], ['at', 'liberty', 'to', 'choose', 'whatever', 'occupation', 'one', 'wishes', '.'], ['answer', 'the', 'question', '.'], ['carve', 'one', \"'s\", 'name', 'into', 'the', 'bark', '.'], ['the', 'carpenter', 'who', 'built', 'this', 'room', 'must', 'have', 'lost', 'his', 'square', '.'], ['donate', 'money', 'to', 'the', 'orphanage', '.'], ['we', 'must', 'not', 'proliferate', 'nuclear', 'arms', '.'], ['hew', 'out', 'a', 'path', 'in', 'the', 'rock', '.'], ['can', 'i', 'keep', 'my', 'old', 'stuffed', 'animals', '?'], ['he', 'practiced', 'the', 'art', 'of', 'sophistication', 'upon', 'reason', '.'], ['he', 'trained', 'at', 'putting', 'the', 'shot', '.'], ['the', 'senators', 'used', 'their', 'muscle', 'to', 'get', 'the', 'party', 'leader', 'to', 'resign', '.'], ['do', \"n't\", 'fiddle', 'with', 'the', 'screws', '.'], ['harass', 'the', 'enemy', '.'], ['the', 'minister', 'said', 'a', 'prayer', 'on', 'behalf', 'of', 'the', 'entire', 'congregation', '.'], ['he', 'played', 'the', 'trumps', 'in', 'sequence', '.'], ['the', 'abatement', 'of', 'a', 'nuisance', 'is', 'the', 'suppression', 'thereof', '.'], ['incorporate', 'this', 'document', 'with', 'those', 'pertaining', 'to', 'the', 'same', 'case', '.'], ['the', 'steak', 'was', 'tough', 'to', 'chew', 'as', 'it', 'had', 'been', 'cooked', 'too', 'long', '.'], ['the', 'conclusion', 'of', 'the', 'peace', 'treaty', '.'], ['the', 'duke', \"'s\", 'fiefdom', 'had', 'been', 'greatly', 'expanded', 'as', 'a', 'reward', 'for', 'his', 'dutiful', 'military', 'service', 'on', 'behalf', 'of', 'the', 'king', '.'], ['a', 'marriage', 'of', 'ideas', '.'], ['pat', 'pushed', 'the', 'button', 'marked', '\"', 'shred', '\"', 'on', 'the', 'blender', '.'], ['plant', 'bugs', 'in', 'the', 'dissident', \"'s\", 'apartment', '.'], ['he', 'wishes', 'to', 'accumulate', 'a', 'sum', 'of', 'money', '.'], ['wrangle', 'horses', '.'], ['this', 'car', 'could', 'be', 'just', 'the', 'ticket', 'for', 'a', 'small', 'family', '.'], ['shake', 'the', 'salt', 'out', 'of', 'the', 'salt', 'shaker', '.'], ['process', 'iron', '.'], ['the', 'infection', 'spread', '.'], ['birds', 'of', 'prey', 'often', 'seize', 'small', 'mammals', '.'], ['we', 'must', 'follow', 'closely', 'the', 'economic', 'development', 'is', 'cuba', '.'], ['it', 'was', 'a', 'long', 'pull', 'but', 'we', 'made', 'it', '.'], ['misdirect', 'the', 'letter', '.'], ['worldwide', 'in', 'distribution', '.'], ['when', 'does', 'the', 'court', 'of', 'law', 'sit', '?'], ['to', 'command', 'an', 'army', 'or', 'a', 'ship', '.'], ['he', 'has', 'a', 'touch', 'of', 'rheumatism', '.'], ['summer', 'seems', 'to', 'last', 'longer', 'each', 'year', '.'], ['a', 'good', 'lead', 'for', 'a', 'job', '.'], ['i', 'am', 'trying', 'to', 'contact', 'my', 'sister', '.'], ['send', 'me', 'your', 'latest', 'results', '.'], ['the', 'restaurant', 'had', 'an', 'upper', 'class', 'patronage', '.'], ['he', 'lived', 'in', 'exile', '.'], ['the', 'last', 'bastion', 'of', 'communism', '.'], ['admit', 'someone', 'to', 'the', 'profession', '.'], ['a', 'disease', 'of', 'frequent', 'occurrence', '.'], ['ease', 'the', 'pain', 'in', 'your', 'legs', '.'], ['he', 'ran', 'to', 'safety', '.'], ['the', 'relief', 'pitcher', 'got', 'credit', 'for', 'a', 'save', '.'], ['stop', 'a', 'car', '.'], ['these', 'paintings', 'exalt', 'the', 'imagination', '.'], ['to', 'ask', 'at', 'that', 'particular', 'time', 'was', 'the', 'ultimate', 'in', 'bad', 'taste', '.'], ['the', 'enemy', 'had', 'the', 'advantage', 'of', 'a', 'more', 'elevated', 'position', '.'], ['it', 'was', 'the', 'deliberation', 'of', 'his', 'act', 'that', 'was', 'insulting', '.'], ['the', 'captain', 'was', 'obliged', 'to', 'allowance', 'his', 'crew', '.'], ['to', 'influence', 'the', 'arousal', 'of', 'brain', 'and', 'behavior', '.'], ['whimsy', 'can', 'be', 'humorous', 'to', 'someone', 'with', 'time', 'to', 'enjoy', 'it', '.'], ['do', \"n't\", 'strain', 'your', 'mind', 'too', 'much', '.'], ['the', 'runners', 'emerged', 'from', 'the', 'trees', 'into', 'his', 'clear', 'vision', '.'], ['this', 'shall', 'not', 'relieve', 'either', 'party', 'of', 'any', 'obligations', '.'], ['i', 'vote', 'that', 'we', 'all', 'go', 'home', '.'], ['gap', 'between', 'income', 'and', 'outgo', '.'], ['the', 'action', 'teams', 'worked', 'in', 'partnership', 'with', 'the', 'government', '.'], ['the', 'children', 'acted', 'out', 'a', 'comic', 'piece', 'to', 'amuse', 'the', 'guests', '.'], ['the', 'body', 'of', 'the', 'car', 'was', 'badly', 'rusted', '.'], ['take', 'a', 'right', 'at', 'the', 'corner', '.'], ['more', 'fuel', 'is', 'needed', 'during', 'the', 'winter', 'months', '.'], ['let', \"'s\", 'peg', 'the', 'rug', 'to', 'the', 'floor', '.'], ['the', 'might', 'have', 'repercussions', 'of', 'unimaginable', 'largeness', '.'], ['will', 'the', 'new', 'rules', 'affect', 'me', '?'], ['war', 'is', 'hell', '.'], ['the', 'average', 'cost', 'of', 'a', 'new', 'house', 'is', 'twice', 'as', 'much', 'as', 't', 'was', '20', 'years', 'ago', '.'], ['the', 'floats', 'and', 'horses', 'in', 'the', 'parade', 'were', 'impressive', ',', 'but', 'the', 'marching', 'bands', 'were', 'really', 'amazing', '.'], ['he', 'left', 'the', 'preparation', 'of', 'meals', 'to', 'his', 'wife', '.'], ['she', 'served', 'a', 'creamy', 'sort', 'of', 'dessert', 'thing', '.'], ['please', 'refrigerate', 'your', 'uncooked', 'meats', 'at', 'or', 'below', '40', 'fahrenheit', '.'], ['the', 'woods', 'planted', 'in', 'ash', 'will', 'see', 'a', 'different', 'mix', 'of', 'species', '.'], ['the', 'cia', 'chief', 'of', 'station', 'accepted', 'responsibility', 'for', 'his', 'agents', \"'\", 'failures', 'of', 'tradecraft', '.'], ['particle', 'detectors', 'sense', 'ionization', '.'], ['utter', 'counterfeit', 'currency', '.'], ['the', 'drug', 'capital', 'of', 'columbia', '.'], ['prepare', 'for', 'war', '.'], ['he', 'had', 'the', 'gem', 'set', 'in', 'a', 'ring', 'for', 'his', 'wife', '.'], ['the', 'government', 'must', 'do', 'its', 'part', '.'], ['rise', 'to', 'the', 'occasion', '.'], ['hook', 'the', 'ball', '.'], ['he', 'was', 'a', 'tool', ',', 'no', 'more', 'than', 'a', 'pawn', 'to', 'her', '.'], ['real', 'life', '.'], ['result', 'in', 'tragedy', '.'], ['the', 'book', 'tells', 'the', 'story', 'of', 'two', 'roommates', '.'], ['that', \"'s\", 'a', 'load', 'off', 'my', 'mind', '.'], ['an', 'executive', 'or', 'judical', 'office', '.'], ['configure', 'a', 'plane', 'for', 'a', 'combat', 'mission', '.'], ['the', 'houses', 'were', 'swept', 'away', 'in', 'the', 'torrent', '.'], ['choke', 'a', 'carburetor', '.'], ['the', 'embodiment', 'of', 'hope', '.'], ['his', 'date', 'never', 'stopped', 'talking', '.'], ['engrave', 'a', 'letter', '.'], ['`', 'smog', \"'\", 'is', 'a', 'blend', 'of', '`', 'smoke', \"'\", 'and', '`', 'fog', \"'\", '.'], ['she', 'wanted', 'to', 'aim', 'a', 'pun', '.'], ['his', 'work', 'established', 'a', 'new', 'department', 'of', 'literature', '.'], ['a', 'plume', 'of', 'smoke', '.'], ['bean', 'curd', '.'], ['the', 'linebackers', 'were', 'ready', 'to', 'stop', 'a', 'rush', '.'], ['rust', 'remover', '.'], ['he', 'handled', 'the', 'vase', 'with', 'care', '.'], ['he', 'knew', 'that', 'it', 'was', 'trash', 'day', ',', 'when', 'the', 'garbage', 'collectors', 'made', 'all', 'the', 'noise', '.'], ['some', 'of', 'the', 'members', 'may', 'donate', 'privately', '.'], ['i', \"'ll\", 'row', 'out', 'on', 'the', 'lake', 'but', 'stay', 'within', 'earshot', '.'], ['canadian', 'tariffs', 'enabled', 'united', 'states', 'lumber', 'companies', 'to', 'raise', 'prices', 'at', 'home', '.'], ['canada', 'is', 'a', 'member', 'of', 'the', 'united', 'nations', '.'], ['an', 'emerging', 'professional', 'class', '.'], ['disable', 'this', 'command', 'on', 'your', 'computer', '.'], ['to', 'moderate', 'a', 'synod', '.'], ['a', 'clothes', 'horse', '.'], ['her', 'dog', 'likes', 'to', 'tree', 'squirrels', '.'], ['the', 'airliner', 'had', 'to', 'land', 'with', 'a', 'nose', '-', 'up', 'attitude', 'after', 'the', 'incident', '.'], ['we', 'ca', \"n't\", 'afford', 'to', 'send', 'our', 'children', 'to', 'college', '.'], ['this', 'will', 'renovate', 'my', 'spirits', '.'], ['the', 'wateriness', 'of', 'his', 'blood', '.'], ['pioneers', 'had', 'to', 'cross', 'the', 'continent', 'on', 'foot', '.'], ['make', 'a', 'break', 'for', 'it', '.'], ['they', 'organized', 'a', 'rescue', 'operation', '.'], ['as', 'he', 'called', 'the', 'role', 'he', 'put', 'a', 'check', 'mark', 'by', 'each', 'student', \"'s\", 'name', '.'], ['he', 'was', 'a', 'bad', 'influence', 'on', 'the', 'children', '.'], ['surgeons', 'must', 'scrub', 'prior', 'to', 'an', 'operation', '.'], ['the', 'assembly', 'plant', 'is', 'an', 'enormous', 'facility', '.'], ['she', 'ordered', 'some', 'wine', 'for', 'the', 'meal', '.'], ['they', 'regretted', 'the', 'closure', 'of', 'the', 'day', 'care', 'center', '.'], ['the', 'restaurant', 'is', 'noted', 'for', 'its', 'excellent', 'cuisine', '.'], ['the', 'peak', 'of', 'perfection', '.'], ['to', 'liberate', 'the', 'mind', 'from', 'prejudice', '.'], ['a', 'pedestrian', 'was', 'able', 'to', 'trip', 'the', 'burglar', 'as', 'he', 'was', 'running', 'away', '.'], ['the', 'ball', 'at', 'the', 'base', 'of', 'the', 'thumb', '.'], ['it', \"'s\", 'your', 'move', '!', 'roll', 'the', 'dice', '!'], ['slip', 'into', 'something', 'comfortable', '.'], ['flush', 'the', 'meadows', '.'], ['comb', 'the', 'wool', '.'], ['after', 'the', 'blizzard', 'he', 'shoveled', 'the', 'front', 'walk', '.'], ['there', 'was', 'a', 'blockage', 'in', 'the', 'sewer', ',', 'so', 'we', 'called', 'out', 'the', 'plumber', '.'], ['collapse', 'the', 'music', 'stand', '.'], ['we', 'sleep', 'five', 'people', 'in', 'each', 'room', '.'], ['geometry', 'is', 'the', 'mathematical', 'science', 'of', 'shape', '.'], ['leave', 'your', 'child', 'the', 'nurse', \"'s\", 'care', '.'], ['students', 'making', 'aliyah', '.'], ['to', 'lay', 'a', 'tax', 'on', 'land', '.'], ['a', 'thing', 'of', 'the', 'spirit', '.'], ['i', 'know', 'of', 'the', 'man', ';', 'but', 'have', 'no', 'acquaintance', 'with', 'him', '.'], ['sign', 'an', 'intersection', '.'], ['be', 'careful', 'crossing', 'the', 'street', '.'], ['do', \"n't\", 'fuss', 'too', 'much', 'over', 'the', 'grandchildren', '--', 'they', 'are', 'quite', 'big', 'now', '.'], ['it', 'is', 'none', 'of', 'your', 'affair', '.'], ['direct', 'your', 'anger', 'towards', 'others', ',', 'not', 'towards', 'yourself', '.'], ['you', 'can', 'characterize', 'his', 'behavior', 'as', 'that', 'of', 'an', 'egotist', '.'], ['the', 'imperialist', 'nation', 'wanted', 'to', 'strangle', 'the', 'free', 'trade', 'between', 'the', 'two', 'small', 'countries', '.'], ['the', 'board', 'has', 'seven', 'members', '.'], ['in', 'britain', 'they', 'call', 'a', 'bobby', 'pin', 'a', 'grip', '.'], ['i', 'swear', 'by', 'my', 'grandmother', \"'s\", 'recipes', '.'], ['the', 'relations', 'between', 'town', 'and', 'gown', 'are', 'always', 'sensitive', '.'], ['triangulate', 'the', 'piece', 'of', 'cardboard', '.'], ['the', 'infielder', \"'s\", 'snap', 'and', 'throw', 'was', 'a', 'single', 'motion', '.'], ['what', 'does', 'the', 'law', 'say', '?'], ['the', 'aptness', 'of', 'men', 'to', 'follow', 'example', '.'], ['he', 'wasted', 'his', 'pay', 'on', 'drink', '.'], ['the', 'collapse', 'of', 'the', 'old', 'star', 'under', 'its', 'own', 'gravity', '.'], ['it', \"'s\", 'my', 'go', '.'], ['how', 'did', 'your', 'interview', 'go', '?'], ['the', 'nurse', 'gave', 'him', 'a', 'flu', 'shot', '.'], ['he', 'drank', 'a', 'mixture', 'of', 'beer', 'and', 'lemonade', '.'], ['all', 'abuse', ',', 'whether', 'physical', ',', 'verbal', ',', 'psychological', 'or', 'sexual', ',', 'is', 'bad', '.'], ['the', 'breeze', 'rustled', 'the', 'papers', 'on', 'her', 'desk', '.'], ['she', 'flossed', 'her', 'teeth', '.'], ['the', 'nap', 'was', 'a', 'welcome', 'refresher', '.'], ['violate', 'the', 'sanctity', 'of', 'the', 'church', '.'], ['a', 'barrage', 'of', 'questions', '.'], ['the', 'symphony', 'was', 'hailed', 'as', 'an', 'ingenious', 'work', '.'], ['the', 'transfer', 'of', 'the', 'music', 'from', 'record', 'to', 'tape', 'suppressed', 'much', 'of', 'the', 'background', 'noise', '.'], ['the', 'homogenization', 'of', 'cream', '.'], ['he', 'has', 'a', 'keen', 'intellect', '.'], ['he', 'made', 'his', 'morning', 'toilet', 'and', 'went', 'to', 'breakfast', '.'], ['their', 'military', 'is', 'the', 'largest', 'in', 'the', 'region', '.'], ['leave', 'lots', 'of', 'time', 'for', 'the', 'trip', '.'], ['all', 'that', 'bowing', 'and', 'scraping', 'did', 'not', 'impress', 'him', '.'], ['google', 'represents', 'a', 'new', 'breed', 'of', 'entrepreneurs', '.'], ['there', 'are', 'three', 'synagogues', 'in', 'the', 'jewish', 'section', '.'], ['the', 'locks', 'pound', 'the', 'water', 'of', 'the', 'canal', '.'], ['the', 'bus', 'was', 'late', 'so', 'he', 'missed', 'his', 'connection', 'at', 'penn', 'station', 'and', 'had', 'to', 'wait', 'six', 'hours', 'for', 'the', 'next', 'train', '.'], ['a', 'mechanism', 'of', 'social', 'control', '.'], ['gargle', 'with', 'this', 'liquid', '.'], ['he', 'got', 'a', 'bang', 'on', 'the', 'head', '.'], ['catalytic', 'activity', '.'], ['he', 'used', 'terror', 'to', 'make', 'them', 'confess', '.'], ['the', 'plane', 'made', 'a', 'smooth', 'landing', '.'], ['rock', 'fracture', 'and', 'rock', 'flowage', 'are', 'different', 'types', 'of', 'geological', 'deformation', '.'], ['the', 'bald', 'eagle', 'is', 'a', 'denizen', 'of', 'the', 'northern', 'part', 'of', 'the', 'state', '.'], ['the', 'news', 'caused', 'a', 'sensation', '.'], ['state', 'your', 'name', '.'], ['we', 'went', 'there', 'by', 'foot', 'because', 'we', 'could', 'not', 'afford', 'a', 'taxi', '.'], ['he', 'worships', 'the', 'almighty', 'dollar', '.'], ['they', 'look', 'the', 'same', 'in', 'outward', 'view', '.'], ['i', 'need', 'him', 'to', 'be', 'nice', '.'], ['my', 'neighbor', 'was', 'the', 'lead', 'role', 'in', 'last', 'year', \"'s\", 'village', 'play', '.'], ['you', 'should', 'have', 'read', 'the', 'small', 'print', 'on', 'your', 'policy', '.'], ['they', 'departed', 'hurriedly', 'because', 'of', 'some', 'great', 'urgency', 'in', 'their', 'affairs', '.'], ['i', 'am', 'reading', 'a', 'good', 'book', 'on', 'economics', '.'], ['the', 'unhappy', 'couple', 'got', 'into', 'a', 'terrible', 'scrap', '.'], ['i', 'mess', 'with', 'the', 'wardroom', 'officers', '.'], ['territorial', 'disputes', 'were', 'resolved', 'in', 'guatemala', \"'s\", 'recognition', 'of', 'belize', 'in', '1991', '.'], ['a', 'hard', 'hitter', '.'], ['a', 'valuable', 'financial', 'affiliation', '.'], ['he', \"'s\", 'my', 'best', 'mate', '.'], ['in', 'the', 'middle', 'of', 'the', 'marathon', ',', 'david', 'collapsed', 'from', 'fatigue', '.'], ['the', 'diet', 'of', 'the', 'giant', 'panda', 'consists', 'mainly', 'of', 'bamboo', '.'], ['he', 'was', 'ordered', 'to', 'report', 'for', 'induction', 'into', 'the', 'army', '.'], ['to', 'bull', 'railroad', 'bonds', '.'], ['the', 'impregnation', 'of', 'wood', 'with', 'preservative', '.'], ['higher', 'wages', 'caused', 'an', 'escalation', 'of', 'prices', '.'], ['we', 'did', 'not', 'understand', 'his', 'motivation', '.'], ['a', 'right', 'identity', ',', 'x', '*', 'i', '=', 'x', 'for', 'any', 'x', 'in', 'the', 'structure', '.'], ['today', 'is', 'a', 'wiccan', 'holiday', '!'], ['clinton', 'directed', 'his', 'fire', 'at', 'the', 'republican', 'party', '.'], ['if', 'you', 'average', '10', ',', '20', 'and', '24', ',', 'you', 'get', '18', '.'], ['the', 'addition', 'of', 'a', 'leap', 'day', 'every', 'four', 'years', '.'], ['segment', 'a', 'compound', 'word', '.'], ['shoot', 'cloth', '.'], ['a', 'girl', \"'s\", 'education', 'was', 'less', 'important', 'than', 'a', 'boy', \"'s\", '.'], ['a', 'succession', 'of', 'failures', '.'], ['the', 'files', 'will', 'erase', 'quickly', '.'], ['to', 'crush', 'grapes', '.'], ['elections', 'figure', 'prominently', 'in', 'every', 'government', 'program', '.'], ['let', \"'s\", 'eliminate', 'the', 'course', 'on', 'akkadian', 'hieroglyphics', '.'], ['he', 'counted', 'the', 'house', '.'], ['economic', 'cooperation', '.'], ['indent', 'the', 'documents', '.'], ['their', 'troops', 'were', 'untrained', 'militia', '.'], ['probation', 'is', 'part', 'of', 'the', 'sentencing', 'process', '.'], ['bag', 'a', 'few', 'pheasants', '.'], ['rouge', 'dragon', 'is', 'a', 'herald', 'at', 'the', 'college', 'of', 'arms', '.'], ['his', 'detention', 'was', 'politically', 'motivated', '.'], ['the', 'invaders', 'spread', 'their', 'language', 'all', 'over', 'the', 'country', '.'], ['accession', 'to', 'such', 'demands', 'would', 'set', 'a', 'dangerous', 'precedent', '.'], ['switch', 'to', 'a', 'different', 'brand', 'of', 'beer', '.'], ['let', \"'s\", 'hang', 'this', 'cute', 'animal', 'in', 'the', 'nursery', '.'], ['you', 'can', 'not', 'be', 'convicted', 'of', 'criminal', 'guilt', 'by', 'association', '.'], ['it', 'was', 'a', 'miracle', 'that', 'he', 'survived', 'the', 'drop', 'from', 'that', 'height', '.'], ['he', 'put', 'an', 'ice', 'pack', 'on', 'the', 'injury', 'as', 'a', 'precaution', '.'], ['a', 'surprising', 'experience', '.'], ['undo', 'the', 'shoelace', '.'], ['he', 'has', 'been', 'on', 'relief', 'for', 'many', 'years', '.'], ['the', 'need', 'for', 'informational', 'flexibility', 'can', 'lead', 'to', 'adhocracy', '.'], ['in', 'the', 'summer', 'the', 'nightlife', 'shifts', 'to', 'the', 'dance', 'clubs', '.'], ['an', 'eyebrow', 'pencil', '.'], ['i', 'saw', 'a', 'poster', 'for', 'it', 'on', 'the', 'side', 'of', 'a', 'bus', '.'], ['we', 'had', 'a', 'word', 'or', 'two', 'about', 'it', '.'], ['want', 'the', 'strength', 'to', 'go', 'on', 'living', '.'], ['threw', 'down', 'the', 'gauntlet', '.'], ['he', 'was', 'a', 'bull', 'of', 'a', 'man', '.'], ['flick', 'a', 'piece', 'of', 'paper', 'across', 'the', 'table', '.'], ['his', 'treatment', 'of', 'the', 'race', 'question', 'is', 'badly', 'biased', '.'], ['she', 'lost', 'all', 'her', 'respect', 'and', 'authority', 'after', 'turning', 'up', 'drunk', 'to', 'the', 'meeting', '.'], ['he', 'went', 'from', 'grunt', 'to', 'chairman', 'in', 'six', 'years', '.'], ['that', 'toaster', 'can', 'make', 'wonderful', 'toasts', '.'], ['we', 'live', 'an', 'hour', 'from', 'the', 'airport', '.'], ['they', 'set', 'up', 'camp', 'next', 'to', 'the', 'dig', '.'], ['they', 'served', 'me', 'a', 'dish', 'of', 'rice', '.'], ['the', 'animal', 'died', 'a', 'painful', 'death', '.'], ['the', 'power', 'plant', 'received', 'a', 'new', 'upgrade', '.'], ['afflict', 'with', 'the', 'plague', '.'], ['post', 'a', 'warning', 'at', 'the', 'dump', '.'], ['there', 'is', 'a', 'group', 'of', 'houses', 'behind', 'the', 'hill', '.'], ['pinnacle', 'a', 'pediment', '.'], ['gunny', 'invariably', 'tried', 'to', 'bite', 'her', '.'], ['let', \"'s\", 'finalize', 'the', 'proposal', '.'], ['lie', 'down', 'on', 'the', 'bed', 'until', 'you', 'feel', 'better', '.'], ['she', 'has', 'free', 'agency', '.'], ['a', 'string', 'of', 'islands', '.'], ['to', 'gnash', 'the', 'air', 'in', 'fury', '.'], ['do', \"n't\", 'twist', 'my', 'words', '.'], ['can', 'i', 'invite', 'you', 'for', 'dinner', 'on', 'sunday', 'night', '?'], ['brush', 'aside', 'the', 'objections', '.'], ['he', 'had', \"n't\", 'seen', 'his', 'dad', 'in', 'years', '.'], ['render', 'the', 'brick', 'walls', 'in', 'the', 'den', '.'], ['anthropology', \"'s\", 'kinship', 'with', 'the', 'humanities', '.'], ['the', 'superintendence', 'and', 'agency', 'of', 'providence', 'in', 'the', 'natural', 'world', '.', '--woodward', '.'], ['after', 'so', 'much', 'stress', ',', 'he', 'suffered', 'a', 'breakdown', 'and', 'simply', 'gave', 'up', '.'], ['we', 'combust', 'coal', 'and', 'other', 'fossil', 'fuels', '.'], ['writing', 'was', 'a', 'form', 'of', 'therapy', 'for', 'him', '.'], ['juvenile', 'offenses', 'often', 'reflect', 'an', 'inadequacy', 'in', 'the', 'parents', '.'], ['always', 'a', 'step', 'behind', '.'], ['i', \"'d\", 'flip', 'if', 'anyone', 'broke', 'my', 'phone', '.'], ['the', 'reappearance', 'of', 'halley', \"'s\", 'comet', '.'], ['english', 'usage', '.'], ['they', 'played', 'a', 'gig', 'in', 'new', 'jersey', '.'], ['she', \"'s\", 'a', 'demon', 'at', 'math', '.'], ['for', 'an', 'ellipse', ',', 'the', 'eccentricity', 'is', 'the', 'ratio', 'of', 'the', 'distance', 'from', 'the', 'center', 'to', 'a', 'focus', 'divided', 'by', 'the', 'length', 'of', 'the', 'semi', '-', 'major', 'axis', '.'], ['my', 'weekly', 'allowance', 'of', 'two', 'eggs', '.'], ['these', 'delicate', 'plants', 'do', 'not', 'transplant', 'easily', '.'], ['i', 'woke', 'up', 'in', 'the', 'middle', 'of', 'the', 'night', '.'], ['the', 'campaign', 'put', 'a', 'favorable', 'spin', 'on', 'the', 'story', '.'], ['heel', 'a', 'golf', 'ball', '.'], ['force', 'socialization', 'rarely', 'creates', 'strong', 'friendships', ',', 'but', 'there', 'are', 'exceptions', '.'], ['i', 'rarely', 'attend', 'services', 'at', 'my', 'church', '.'], ['the', 'tyrant', \"'s\", 'oppression', 'of', 'the', 'people', '.'], ['tap', 'a', 'cask', 'of', 'wine', '.'], ['please', 'can', 'i', 'have', 'a', 'look', ',', 'if', 'i', 'promise', 'not', 'to', 'touch', '?'], ['he', 'was', 'indebted', 'to', 'the', 'pioneering', 'work', 'of', 'john', 'dewey', '.'], ['the', 'engineer', 'marvelled', 'at', 'his', 'construction', '.'], ['i', 'would', 'love', 'to', 'have', 'dinner', 'but', 'i', 'have', 'to', 'catch', 'a', 'plane', '.'], ['experiments', 'show', 'clearly', 'that', 'genes', 'segregate', '.'], ['the', 'rug', 'had', 'a', 'wide', 'blue', 'border', '.'], ['hyenas', 'scavenge', '.'], ['his', 'manipulation', 'of', 'his', 'friends', 'was', 'scandalous', '.'], ['flood', 'the', 'market', 'with', 'tennis', 'shoes', '.'], ['just', 'steam', 'the', 'vegetables', '.'], ['he', 'lacks', 'the', 'foundation', 'necessary', 'for', 'advanced', 'study', '.'], ['i', 'could', 'just', 'make', 'out', 'her', 'face', 'in', 'the', 'twilight', '.'], ['the', 'strike', 'was', 'supported', 'by', 'the', 'union', 'rank', 'and', 'file', '.'], ['the', 'new', 'car', 'is', 'a', 'delight', '.'], ['the', 'path', 'of', 'virtue', '.'], ['the', 'operator', 'could', \"n't\", 'get', 'kobe', 'because', 'of', 'the', 'earthquake', '.'], ['the', 'forwarding', 'of', 'resumes', 'to', 'the', 'personnel', 'department', '.'], ['did', 'i', 'fail', 'the', 'test', '?'], ['the', 'accident', 'created', 'a', 'dimple', 'in', 'the', 'hood', 'of', 'the', 'car', '.'], ['it', \"'s\", 'a', 'pity', 'he', 'could', \"n't\", 'do', 'it', '.'], ['he', 'was', 'concerned', 'with', 'rail', 'safety', '.'], ['discussion', 'of', 'the', 'emergency', 'situation', 'will', 'preempt', 'the', 'lecture', 'by', 'the', 'professor', '.'], ['the', 'nazi', 'assumption', 'of', 'power', 'in', '1934', '.'], ['i', 'would', 'like', 'to', 'thank', 'the', 'brother', 'who', 'just', 'spoke', '.'], ['recruit', 'new', 'soldiers', '.'], ['truman', 'upset', 'dewey', 'in', 'the', '1948', 'us', 'presidential', 'election', '.'], ['a', 'show', 'of', 'impatience', '.'], ['the', 'woman', 'charged', 'that', 'her', 'jailer', 'was', 'a', 'fondler', '.'], ['the', 'whole', 'body', 'filed', 'out', 'of', 'the', 'auditorium', '.'], ['hooligans', 'destroy', 'unprovoked', '.'], ['the', 'army', 'retreated', 'in', 'confusion', '.'], ['some', 'people', 'put', 'the', 'stress', 'on', 'the', 'first', 'syllable', 'of', '“', 'controversy', '”', ';', 'others', 'put', 'it', 'on', 'the', 'second', '.'], ['inject', 'hydrogen', 'into', 'the', 'balloon', '.'], ['he', 'was', 'mistreated', 'while', 'in', 'police', 'custody', '.'], ['a', 'political', 'gesture', '.'], ['cleat', 'running', 'shoes', 'for', 'better', 'traction', '.'], ['one', 'can', 'never', 'fully', 'repair', 'the', 'suffering', 'and', 'losses', 'of', 'the', 'jews', 'in', 'the', 'third', 'reich', '.'], ['fold', 'up', 'the', 'newspaper', '.'], ['most', 'of', 'the', 'works', 'by', 'frédéric', 'chopin', 'are', 'for', 'the', 'piano', '.'], ['the', 'fibers', 'decussate', '.'], ['grind', 'lenses', 'for', 'glasses', 'and', 'cameras', '.'], ['wail', 'in', 'self', '-', 'pity', '.'], ['by', 'adding', '\"', '-ness', '\"', ',', 'you', 'can', 'form', 'a', 'noun', 'from', 'an', 'adjective', '.'], ['that', 'is', 'the', 'correct', 'pronunciation', '.'], ['the', 'senator', 'received', 'severe', 'criticism', 'from', 'his', 'opponent', '.'], ['injustice', 'is', 'a', 'heinous', 'wrong', '.'], ['growing', 'fatigue', 'was', 'apparent', 'from', 'the', 'decline', 'in', 'the', 'execution', 'of', 'their', 'athletic', 'skills', '.'], ['a', 'mule', 'is', 'a', 'cross', 'between', 'a', 'horse', 'and', 'a', 'donkey', '.'], ['do', \"n't\", 'handle', 'the', 'merchandise', '.'], ['hail', 'a', 'cab', '.'], ['the', 'country', 'will', 'stabilize', 'after', 'the', 'next', 'election', 'ends', '.'], ['i', 'expect', 'to', 'receive', 'wages', '.'], ['the', 'game', 'was', 'interrupted', 'by', 'a', 'brief', 'shower', '.'], ['the', 'promulgation', 'was', 'written', 'in', 'english', '.'], ['he', 'could', 'not', 'conceal', 'his', 'hostility', '.'], ['the', 'children', 'began', 'to', 'clap', 'in', 'time', 'with', 'the', 'music', '.'], ['plants', 'from', 'a', 'cold', 'clime', 'travel', 'best', 'in', 'winter', '.'], ['a', 'deal', 'of', 'trouble', '.'], ['please', 'listen', 'carefully', 'as', 'i', 'explain', '.'], ['the', 'party', 'of', 'the', 'first', 'part', '.'], ['the', 'history', 'of', 'this', 'work', 'is', 'discussed', 'in', 'the', 'next', 'section', '.'], ['conserve', 'your', 'energy', 'for', 'the', 'ascent', 'to', 'the', 'summit', '.'], ['a', 'joy', 'to', 'behold', '.'], ['create', 'a', 'poem', '.'], ['it', 'was', 'not', 'what', 'it', 'appeared', 'to', 'be', 'on', 'the', 'surface', '.'], ['a', 'place', 'setting', 'of', 'sterling', 'flatware', '.'], ['the', 'bane', 'of', 'my', 'existence', '.'], ['the', 'intolerable', 'license', 'with', 'which', 'the', 'newspapers', 'break', '...', 'the', 'rules', 'of', 'decorum', '-', 'edmund', 'burke', '.'], ['the', 'stick', 'does', 'not', 'bend', '.'], ['she', 'wants', 'to', 'act', 'lady', 'macbeth', ',', 'but', 'she', 'is', 'too', 'young', 'for', 'the', 'role', '.'], ['they', 'worship', 'in', 'the', 'traditional', 'manner', '.'], ['wait', 'a', 'minute', ',', 'i', \"'m\", 'not', 'ready', 'yet', '!'], ['a', 'glow', 'of', 'regret', '.'], ['they', 'were', 'restrained', 'by', 'a', 'prohibition', 'in', 'their', 'charter', '.'], ['they', 'are', 'nearing', 'the', 'coast', '.'], ['i', 'could', 'see', 'it', 'in', 'the', 'distance', '.'], ['a', 'strand', 'of', 'pearls', '.'], ['the', 'level', 'of', 'activity', 'declines', 'with', 'age', '.'], ['instant', 'replay', 'caused', 'too', 'long', 'a', 'delay', '.'], ['dip', 'the', 'brush', 'into', 'the', 'paint', '.'], ['he', 'had', 'a', 'bye', 'in', 'the', 'first', 'round', '.'], ['a', 'subsidy', 'for', 'research', 'in', 'artificial', 'intelligence', '.'], ['fuel', 'aircraft', ',', 'ships', ',', 'and', 'cars', '.'], ['each', 'club', 'played', 'six', 'home', 'games', 'with', 'teams', 'in', 'its', 'own', 'division', '.'], ['had', 'unusual', 'longevity', 'in', 'the', 'company', '.'], ['i', 'appreciate', 'your', 'efforts', '.'], ['the', 'preponderance', 'of', 'good', 'over', 'evil', '.'], ['youth', 'everywhere', 'rises', 'in', 'revolt', '.'], ['in', 'a', 'world', 'where', 'financial', 'probity', 'may', 'not', 'be', 'widespread', '.'], ['the', 'explanation', 'was', 'very', 'simple', '.'], ['inject', 'heroin', '.'], ['a', 'force', 'out', 'was', 'recorded', 'on', 'the', 'scorecard', '.'], ['preserve', 'the', 'peace', 'in', 'the', 'family', '.'], ['the', 'room', 'was', 'simply', 'decorated', 'with', 'great', 'restraint', '.'], ['they', 'kept', 'a', 'log', 'of', 'all', 'transmission', 'by', 'the', 'radio', 'station', '.'], ['these', 'shoes', 'cost', '$', '100', '.'], ['the', 'professionalization', 'of', 'warfare', '.'], ['lydia', 'put', 'the', 'change', 'in', 'her', 'left', 'pocket', '.'], ['he', 'took', 'a', 'stab', 'at', 'forecasting', '.'], ['the', 'roll', 'of', 'a', 'ball', '.'], ['he', 'is', 'a', 'man', 'of', 'property', '.'], ['his', 'success', 'in', 'the', 'marathon', 'was', 'unexpected', '.'], ['some', 'languages', 'sexualize', 'all', 'nouns', 'and', 'do', 'not', 'have', 'a', 'neuter', 'gender', '.'], ['it', 'was', 'his', 'last', 'wish', '.'], ['the', 'sultriness', 'of', 'her', 'look', 'was', 'unmistakable', '.'], ['they', 'went', 'bankrupt', 'during', 'the', 'economic', 'crisis', '.'], ['the', 'reality', 'of', 'his', 'situation', 'slowly', 'dawned', 'on', 'him', '.'], ['they', 'died', 'in', 'the', 'defense', 'of', 'stalingrad', '.'], ['i', 'forbid', 'you', 'to', 'call', 'me', 'late', 'at', 'night', '.'], ['i', 'need', 'to', 'update', 'my', 'records', 'to', 'take', 'account', 'of', 'the', 'most', 'recent', 'transaction', '.'], ['the', 'main', 'body', 'of', 'the', 'sound', 'ran', 'parallel', 'to', 'the', 'coast', '.'], ['that', 'language', 'has', 'a', 'complex', 'system', 'for', 'indicating', 'gender', '.'], ['the', 'very', 'easiness', 'of', 'the', 'deed', 'held', 'her', 'back', '.'], ['to', 'mire', 'a', 'horse', 'or', 'wagon', '.'], ['spend', 'money', '.'], ['the', 'french', 'treat', 'food', 'with', 'gentle', 'reverence', '.'], ['$', '50', 'wo', \"n't\", 'even', 'buy', 'a', 'dress', '.'], ['students', 'receive', 'instruction', 'in', 'the', 'arts', 'and', 'sciences', '.'], ['the', 'dancer', 'was', 'praised', 'for', 'her', 'uncanny', 'extension', '.'], ['we', 'did', \"n't\", 'believe', 'his', 'stories', 'from', 'the', 'war', '.'], ['the', 'world', \"'s\", 'heritage', 'of', 'knowledge', '.'], ['-', 'who', \"'s\", 'the', 'caller', '?'], ['he', 'told', 'the', 'painter', 'that', 'he', 'wanted', 'a', 'yellow', 'base', 'with', 'just', 'a', 'hint', 'of', 'green', '.'], ['he', 'needed', 'a', 'lot', 'of', 'power', 'to', 'hit', 'the', 'ball', 'out', 'of', 'the', 'stadium', '.'], ['`', 'brunch', \"'\", 'is', 'a', 'well', '-', 'known', 'portmanteau', '.'], ['i', 'promise', 'you', 'my', 'best', 'effort', '.'], ['to', 'pierce', 'a', 'mystery', '.']]\n",
            "1\n"
          ]
        }
      ]
    },
    {
      "cell_type": "code",
      "metadata": {
        "id": "8yPzeBx2WajG"
      },
      "source": [
        "model.eval()\n",
        "with torch.no_grad():\n",
        "  for b in it_test:\n",
        "      idx1, idx2, s1, s2 = b.idx1, b.idx2, b.s1, b.s2\n",
        "      pred = model(idx1, idx2, s1, s2)\n",
        "      pred = torch.round(pred)\n"
      ],
      "execution_count": null,
      "outputs": []
    },
    {
      "cell_type": "code",
      "metadata": {
        "id": "Vs4Td9ctsBUW"
      },
      "source": [
        "with open(args.out_path, 'w') as f:\n",
        "  for i in pred:\n",
        "    #print(label_decode[i.item()],file=f)\n",
        "    print(label_decode.get(i.item(),'F'), file=f)"
      ],
      "execution_count": null,
      "outputs": []
    },
    {
      "cell_type": "code",
      "metadata": {
        "id": "NIjAMSeksBPl"
      },
      "source": [
        ""
      ],
      "execution_count": null,
      "outputs": []
    },
    {
      "cell_type": "code",
      "metadata": {
        "id": "0-IlAUkv7s1C",
        "colab": {
          "base_uri": "https://localhost:8080/"
        },
        "outputId": "10893579-61ff-467c-e513-ad54efa6c0b4"
      },
      "source": [
        "## DONT CHANGE THIS CELL\n",
        "# Your testing code must produce a file output.txt with predictions as T and F in each line\n",
        "\n",
        "## Final Evaluation \n",
        "# this is currently the same as dev.gold.txt\n",
        "!wget http://www.cse.iitd.ac.in/~mausam/courses/col772/autumn2021/A3/test.gold.txt\n",
        "correct, total = 0., 0.\n",
        "for prediction, gold in zip(open('output.txt'), open('test.gold.txt')):\n",
        "  prediction, gold = prediction.strip(), gold.strip()\n",
        "  total += 1\n",
        "  if prediction == gold:\n",
        "    correct += 1\n",
        "\n",
        "## Report this as the final validation performance \n",
        "print('Performance = ', (correct/total))"
      ],
      "execution_count": null,
      "outputs": [
        {
          "output_type": "stream",
          "name": "stdout",
          "text": [
            "--2021-10-11 18:19:40--  http://www.cse.iitd.ac.in/~mausam/courses/col772/autumn2021/A3/test.gold.txt\n",
            "Resolving www.cse.iitd.ac.in (www.cse.iitd.ac.in)... 103.27.9.152\n",
            "Connecting to www.cse.iitd.ac.in (www.cse.iitd.ac.in)|103.27.9.152|:80... connected.\n",
            "HTTP request sent, awaiting response... 301 Moved Permanently\n",
            "Location: https://www.cse.iitd.ac.in/~mausam/courses/col772/autumn2021/A3/test.gold.txt [following]\n",
            "--2021-10-11 18:19:41--  https://www.cse.iitd.ac.in/~mausam/courses/col772/autumn2021/A3/test.gold.txt\n",
            "Connecting to www.cse.iitd.ac.in (www.cse.iitd.ac.in)|103.27.9.152|:443... connected.\n",
            "HTTP request sent, awaiting response... 200 OK\n",
            "Length: 1276 (1.2K) [text/plain]\n",
            "Saving to: ‘test.gold.txt’\n",
            "\n",
            "test.gold.txt       100%[===================>]   1.25K  --.-KB/s    in 0s      \n",
            "\n",
            "2021-10-11 18:19:42 (51.1 MB/s) - ‘test.gold.txt’ saved [1276/1276]\n",
            "\n",
            "Performance =  0.5893416927899686\n"
          ]
        }
      ]
    },
    {
      "cell_type": "code",
      "metadata": {
        "id": "UcNO-HZ4XHkE"
      },
      "source": [
        ""
      ],
      "execution_count": null,
      "outputs": []
    },
    {
      "cell_type": "code",
      "metadata": {
        "id": "_vmC2XIBfbxv"
      },
      "source": [
        ""
      ],
      "execution_count": null,
      "outputs": []
    }
  ]
}